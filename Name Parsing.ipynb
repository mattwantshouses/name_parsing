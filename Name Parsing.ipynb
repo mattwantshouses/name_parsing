# Name Parser - Version 12

# 1. Import Libraries
import pandas as pd
import logging
from google.colab import files
import os
from datetime import datetime
import re
import pytz


# 2. Setup Logging
logging.basicConfig(level=logging.INFO, format='%(asctime)s - %(levelname)s - %(message)s')

# 3. File Upload
def upload_file():
    uploaded = files.upload()
    for fn in uploaded.keys():
        logging.info(f'Uploaded file "{fn}" with length {len(uploaded[fn])} bytes')
    return uploaded

def read_file_to_dataframe(uploaded_file):
    import io
    df = pd.read_csv(io.BytesIO(uploaded_file))
    return df

# 4. Data Reading
def get_data():
    uploaded = upload_file()
    for fn in uploaded.keys():
        return read_file_to_dataframe(uploaded[fn])
    return None

# 5. Version 6 Name Parsing Function

# Parse Multiple Owner Names Function
def parse_names(full_name):
    # Split full name by "&" or ","
    owners = full_name.split("&")
    if len(owners) == 1:
        owners = full_name.split(",")

    # Strip any extra spaces from each owner's name
    owners = [owner.strip() for owner in owners]

    # If there are two owners, parse both names
    if len(owners) == 2:
        owner1, owner2 = owners

        # Parse the first owner's name
        first_name1, middle_name1, last_name1, estate1 = parse_name(owner1)

        # Split the second owner's name into parts
        parts_owner2 = owner2.split()

        # Assign parts of the second owner's name based on the number of parts
        if len(parts_owner2) == 1:
            first_name2 = parts_owner2[0]
            middle_name2 = ""
            last_name2 = last_name1
        elif len(parts_owner2) == 2:
            if len(parts_owner2[1]) == 1 or (len(parts_owner2[1]) == 2 and parts_owner2[1][1] == "."):
                first_name2, middle_name2 = parts_owner2
                last_name2 = last_name1
            else:
                first_name2 = parts_owner2[1]
                middle_name2 = ""
                last_name2 = parts_owner2[0]
        else:
            first_name2, middle_name2 = parts_owner2[1], " ".join(parts_owner2[2:])
            last_name2 = parts_owner2[0]

        # Return the parsed names of both owners
        return first_name1, middle_name1, last_name1, estate1, first_name2, middle_name2, last_name2, estate1
    else:
        # If there is only one owner, parse and return the name
        first_name1, middle_name1, last_name1, estate1 = parse_name(owners[0])
        return first_name1, middle_name1, last_name1, estate1, "", "", "", ""

def parse_name(full_name):


    # 5.1 List of common keywords indicating a corporation or organization
    # Note: "IRA" included here. Needs its own section in further improvements
    organization_keywords = [
        "corp", "corporation", " inc ", "company", " co ", "limited", "ltd", "incorporated", "plc", "corporate",
        "LLC", "LC", "limited liability company", "LLP", "LP", "partnership",
        "foundation", "trust", "nonprofit", "association", "committee",
        "church", "temple", "mosque", "synagogue", "ministry",
        "school", "university", "college", "institute", "academy",
        "department", "agency", "bureau", "office", "commission",
        "club", "society", "union", "organization", "group", "board", "council", "league", "bank", "holding", "holdings", "investment", " ira ", "realty", "real estate", "investments"
    ]

    # 5.2 List of keywords indicating an estate
    estate_keywords = ["deceased", "estate", "deceased estate", "personal representative", "representative", "estte", "state", "life estate"]

    # 5.3 List of keywords indicating et al
    etal_keywords = ["et al", "etal", "eta"]

    # 5.4 Comprehensive list of suffixes
    suffixes = ["Jr.", "Sr.", "III", "II", "Jr", "Sr", "IV", "V", "VI"]

    # 5.5 Split the full name into parts
    parts = full_name.split()
    estate_part = ""
    record_type = "Person"

    # 5.6 Check if the name contains any organization keywords
    if any(keyword.lower() in full_name.lower() for keyword in organization_keywords):
        # Improved logic to reduce false positives
        # Check if the organization keyword is not just a part of a larger word (e.g., "church" in "Churchill")
        for keyword in organization_keywords:
            pattern = r'\b' + re.escape(keyword) + r'\b'
            if re.search(pattern, full_name, re.IGNORECASE):
                record_type = "Organization"
                return "", "", full_name, record_type
        # If no direct match is found, continue with person name parsing
    # 5.7 Check for estate keywords and handle estate names
    estate_found = False
    for keyword in estate_keywords:
        if keyword.lower() in full_name.lower() and full_name.lower().startswith(keyword.lower()):
            estate_part = "Estate"
            parts = [word for word in parts if keyword.lower() not in word.lower()]
            record_type = "Estate"
            estate_found = True
            break

    # 5.8 Check for etal keywords
    if not estate_found:
        for keyword in etal_keywords:
            if keyword.lower() in full_name.lower():
                etal_part = "ETAL"
                parts = [word for word in parts if keyword.lower() not in word.lower()]
                record_type = "ETAL"
                estate_part = etal_part
                break

    # 5.9 Properly parse estate names
    if record_type == "Estate":
        if len(parts) > 1:
            first_name = parts[1] if len(parts) > 1 else ""
            last_name = parts[2] if len(parts) > 2 and len(parts[2]) > 1 else parts[1]
            middle_name = " ".join(parts[3:]) if len(parts) > 3 else ""
        else:
            first_name = ""
            middle_name = ""
            last_name = " ".join(parts)
    else:
        # Handle different cases for personal names
        if len(parts) == 1:
            last_name = parts[0]
            first_name = ""
            middle_name = ""
        elif len(parts) == 2:
            last_name = parts[0]
            first_name = parts[1]
            middle_name = ""
        elif len(parts) == 3:
            last_name = parts[0]
            first_name = parts[1]
            middle_name = parts[2]
        elif len(parts) > 3:
            # For names with more than three parts, handle suffixes and multiple middle names
            last_name = parts[0]
            first_name = parts[1]
            middle_name = []

            # Check for suffixes
            for part in parts[2:]:
                if any(suffix.lower() == part.lower() for suffix in suffixes):
                    last_name += " " + part
                else:
                    middle_name.append(part)
            middle_name = " ".join(middle_name)
        else:
            first_name = ""
            middle_name = ""
            last_name = ""

    # Ensure the default record type is "Person" if it's not set to the other 3
    if record_type not in ["Organization", "ETAL", "Estate"]:
        record_type = "Person"

    # Remove any remaining etal keywords from the parsed names
    first_name = " ".join([word for word in first_name.split() if word.lower() not in etal_keywords])
    middle_name = " ".join([word for word in middle_name.split() if word.lower() not in etal_keywords])
    last_name = " ".join([word for word in last_name.split() if word.lower() not in etal_keywords])

    return first_name, middle_name, last_name, estate_part


# 6 Processing Names in DataFrame
def process_names(df, column_number):
    # Apply parse_names instead of parse_name to ensure consistency
    parsed_data = df.iloc[:, column_number].map(parse_names)
    df['First Name 1'], df['Middle Name 1'], df['Last Name 1'], df['Estate 1'], df['First Name 2'], df['Middle Name 2'], df['Last Name 2'], df['Estate 2'] = zip(*parsed_data)
    return df


# 7. Deduplication
def remove_duplicates(df):
    return df.drop_duplicates()

# 8. Save Output
def save_output(df, code_version):
    # 8.1 Define the Eastern Standard Time timezone
    est = pytz.timezone('US/Eastern')

    # 8.2 Get the current time in EST and format it
    current_time = datetime.now(est).strftime('%H:%M:%S')

    # 8.3 Construct the filename using the current time and code version
    filename = f"Parsed Names v{code_version} {current_time} .csv"

    # 8.4 Save the DataFrame to a CSV file
    df.to_csv(filename, index=False)

    # 8.5 Get the size of the saved file
    file_size = os.path.getsize(filename)

    # 8.6 Log the file save information
    logging.info(f'File "{filename}" was saved at {current_time} with size {file_size} bytes')

    # 8.7 Return the filename
    return filename


# 10. Main Execution Flow
def main():
    logging.info("Starting the name parsing script.")
    df = get_data()
    if df is not None:
        column_number = int(input("Enter the column number containing the names (starting from 0): "))
        code_version = input("Enter the code version: ")  # 10.1 Input for code version
        df = process_names(df, column_number)
        df = remove_duplicates(df)

        # 10.2 Pass the code version to save_output
        filename = save_output(df, code_version)
        logging.info("Script completed successfully.")
    else:
        logging.error("No data was uploaded.")

main()
